{
 "cells": [
  {
   "cell_type": "markdown",
   "metadata": {},
   "source": [
    "# 匯入模組"
   ]
  },
  {
   "cell_type": "code",
   "execution_count": 1,
   "metadata": {},
   "outputs": [
    {
     "name": "stderr",
     "output_type": "stream",
     "text": [
      "Using TensorFlow backend.\n"
     ]
    }
   ],
   "source": [
    "import numpy as np\n",
    "import pandas as pd\n",
    "from keras.utils import np_utils\n",
    "from sklearn import datasets\n",
    "from keras.models import Sequential\n",
    "from keras.layers import Dense\n",
    "from sklearn.model_selection import train_test_split\n",
    "import matplotlib.pyplot as plt\n",
    "np.random.seed(10)"
   ]
  },
  {
   "cell_type": "markdown",
   "metadata": {},
   "source": [
    "# a. iris資料集介紹"
   ]
  },
  {
   "cell_type": "code",
   "execution_count": 2,
   "metadata": {},
   "outputs": [],
   "source": [
    "all_df = pd.read_csv(r\"C:\\Users\\user\\Downloads\\IRIS.csv\")"
   ]
  },
  {
   "cell_type": "code",
   "execution_count": 3,
   "metadata": {},
   "outputs": [
    {
     "data": {
      "text/html": [
       "<div>\n",
       "<style scoped>\n",
       "    .dataframe tbody tr th:only-of-type {\n",
       "        vertical-align: middle;\n",
       "    }\n",
       "\n",
       "    .dataframe tbody tr th {\n",
       "        vertical-align: top;\n",
       "    }\n",
       "\n",
       "    .dataframe thead th {\n",
       "        text-align: right;\n",
       "    }\n",
       "</style>\n",
       "<table border=\"1\" class=\"dataframe\">\n",
       "  <thead>\n",
       "    <tr style=\"text-align: right;\">\n",
       "      <th></th>\n",
       "      <th>sepal_length</th>\n",
       "      <th>sepal_width</th>\n",
       "      <th>petal_length</th>\n",
       "      <th>petal_width</th>\n",
       "      <th>species</th>\n",
       "    </tr>\n",
       "  </thead>\n",
       "  <tbody>\n",
       "    <tr>\n",
       "      <th>0</th>\n",
       "      <td>5.1</td>\n",
       "      <td>3.5</td>\n",
       "      <td>1.4</td>\n",
       "      <td>0.2</td>\n",
       "      <td>Iris-setosa</td>\n",
       "    </tr>\n",
       "    <tr>\n",
       "      <th>1</th>\n",
       "      <td>4.9</td>\n",
       "      <td>3.0</td>\n",
       "      <td>1.4</td>\n",
       "      <td>0.2</td>\n",
       "      <td>Iris-setosa</td>\n",
       "    </tr>\n",
       "    <tr>\n",
       "      <th>2</th>\n",
       "      <td>4.7</td>\n",
       "      <td>3.2</td>\n",
       "      <td>1.3</td>\n",
       "      <td>0.2</td>\n",
       "      <td>Iris-setosa</td>\n",
       "    </tr>\n",
       "    <tr>\n",
       "      <th>3</th>\n",
       "      <td>4.6</td>\n",
       "      <td>3.1</td>\n",
       "      <td>1.5</td>\n",
       "      <td>0.2</td>\n",
       "      <td>Iris-setosa</td>\n",
       "    </tr>\n",
       "    <tr>\n",
       "      <th>4</th>\n",
       "      <td>5.0</td>\n",
       "      <td>3.6</td>\n",
       "      <td>1.4</td>\n",
       "      <td>0.2</td>\n",
       "      <td>Iris-setosa</td>\n",
       "    </tr>\n",
       "    <tr>\n",
       "      <th>...</th>\n",
       "      <td>...</td>\n",
       "      <td>...</td>\n",
       "      <td>...</td>\n",
       "      <td>...</td>\n",
       "      <td>...</td>\n",
       "    </tr>\n",
       "    <tr>\n",
       "      <th>145</th>\n",
       "      <td>6.7</td>\n",
       "      <td>3.0</td>\n",
       "      <td>5.2</td>\n",
       "      <td>2.3</td>\n",
       "      <td>Iris-virginica</td>\n",
       "    </tr>\n",
       "    <tr>\n",
       "      <th>146</th>\n",
       "      <td>6.3</td>\n",
       "      <td>2.5</td>\n",
       "      <td>5.0</td>\n",
       "      <td>1.9</td>\n",
       "      <td>Iris-virginica</td>\n",
       "    </tr>\n",
       "    <tr>\n",
       "      <th>147</th>\n",
       "      <td>6.5</td>\n",
       "      <td>3.0</td>\n",
       "      <td>5.2</td>\n",
       "      <td>2.0</td>\n",
       "      <td>Iris-virginica</td>\n",
       "    </tr>\n",
       "    <tr>\n",
       "      <th>148</th>\n",
       "      <td>6.2</td>\n",
       "      <td>3.4</td>\n",
       "      <td>5.4</td>\n",
       "      <td>2.3</td>\n",
       "      <td>Iris-virginica</td>\n",
       "    </tr>\n",
       "    <tr>\n",
       "      <th>149</th>\n",
       "      <td>5.9</td>\n",
       "      <td>3.0</td>\n",
       "      <td>5.1</td>\n",
       "      <td>1.8</td>\n",
       "      <td>Iris-virginica</td>\n",
       "    </tr>\n",
       "  </tbody>\n",
       "</table>\n",
       "<p>150 rows × 5 columns</p>\n",
       "</div>"
      ],
      "text/plain": [
       "     sepal_length  sepal_width  petal_length  petal_width         species\n",
       "0             5.1          3.5           1.4          0.2     Iris-setosa\n",
       "1             4.9          3.0           1.4          0.2     Iris-setosa\n",
       "2             4.7          3.2           1.3          0.2     Iris-setosa\n",
       "3             4.6          3.1           1.5          0.2     Iris-setosa\n",
       "4             5.0          3.6           1.4          0.2     Iris-setosa\n",
       "..            ...          ...           ...          ...             ...\n",
       "145           6.7          3.0           5.2          2.3  Iris-virginica\n",
       "146           6.3          2.5           5.0          1.9  Iris-virginica\n",
       "147           6.5          3.0           5.2          2.0  Iris-virginica\n",
       "148           6.2          3.4           5.4          2.3  Iris-virginica\n",
       "149           5.9          3.0           5.1          1.8  Iris-virginica\n",
       "\n",
       "[150 rows x 5 columns]"
      ]
     },
     "execution_count": 3,
     "metadata": {},
     "output_type": "execute_result"
    }
   ],
   "source": [
    "all_df"
   ]
  },
  {
   "cell_type": "code",
   "execution_count": 4,
   "metadata": {},
   "outputs": [],
   "source": [
    "cols=['sepal_length','sepal_width','petal_length' ,'petal_width', 'species'] \n",
    "all_df=all_df[cols] "
   ]
  },
  {
   "cell_type": "code",
   "execution_count": 5,
   "metadata": {},
   "outputs": [
    {
     "data": {
      "text/html": [
       "<div>\n",
       "<style scoped>\n",
       "    .dataframe tbody tr th:only-of-type {\n",
       "        vertical-align: middle;\n",
       "    }\n",
       "\n",
       "    .dataframe tbody tr th {\n",
       "        vertical-align: top;\n",
       "    }\n",
       "\n",
       "    .dataframe thead th {\n",
       "        text-align: right;\n",
       "    }\n",
       "</style>\n",
       "<table border=\"1\" class=\"dataframe\">\n",
       "  <thead>\n",
       "    <tr style=\"text-align: right;\">\n",
       "      <th></th>\n",
       "      <th>sepal_length</th>\n",
       "      <th>sepal_width</th>\n",
       "      <th>petal_length</th>\n",
       "      <th>petal_width</th>\n",
       "      <th>species</th>\n",
       "    </tr>\n",
       "  </thead>\n",
       "  <tbody>\n",
       "    <tr>\n",
       "      <th>0</th>\n",
       "      <td>5.1</td>\n",
       "      <td>3.5</td>\n",
       "      <td>1.4</td>\n",
       "      <td>0.2</td>\n",
       "      <td>Iris-setosa</td>\n",
       "    </tr>\n",
       "    <tr>\n",
       "      <th>1</th>\n",
       "      <td>4.9</td>\n",
       "      <td>3.0</td>\n",
       "      <td>1.4</td>\n",
       "      <td>0.2</td>\n",
       "      <td>Iris-setosa</td>\n",
       "    </tr>\n",
       "    <tr>\n",
       "      <th>2</th>\n",
       "      <td>4.7</td>\n",
       "      <td>3.2</td>\n",
       "      <td>1.3</td>\n",
       "      <td>0.2</td>\n",
       "      <td>Iris-setosa</td>\n",
       "    </tr>\n",
       "    <tr>\n",
       "      <th>3</th>\n",
       "      <td>4.6</td>\n",
       "      <td>3.1</td>\n",
       "      <td>1.5</td>\n",
       "      <td>0.2</td>\n",
       "      <td>Iris-setosa</td>\n",
       "    </tr>\n",
       "    <tr>\n",
       "      <th>4</th>\n",
       "      <td>5.0</td>\n",
       "      <td>3.6</td>\n",
       "      <td>1.4</td>\n",
       "      <td>0.2</td>\n",
       "      <td>Iris-setosa</td>\n",
       "    </tr>\n",
       "    <tr>\n",
       "      <th>...</th>\n",
       "      <td>...</td>\n",
       "      <td>...</td>\n",
       "      <td>...</td>\n",
       "      <td>...</td>\n",
       "      <td>...</td>\n",
       "    </tr>\n",
       "    <tr>\n",
       "      <th>145</th>\n",
       "      <td>6.7</td>\n",
       "      <td>3.0</td>\n",
       "      <td>5.2</td>\n",
       "      <td>2.3</td>\n",
       "      <td>Iris-virginica</td>\n",
       "    </tr>\n",
       "    <tr>\n",
       "      <th>146</th>\n",
       "      <td>6.3</td>\n",
       "      <td>2.5</td>\n",
       "      <td>5.0</td>\n",
       "      <td>1.9</td>\n",
       "      <td>Iris-virginica</td>\n",
       "    </tr>\n",
       "    <tr>\n",
       "      <th>147</th>\n",
       "      <td>6.5</td>\n",
       "      <td>3.0</td>\n",
       "      <td>5.2</td>\n",
       "      <td>2.0</td>\n",
       "      <td>Iris-virginica</td>\n",
       "    </tr>\n",
       "    <tr>\n",
       "      <th>148</th>\n",
       "      <td>6.2</td>\n",
       "      <td>3.4</td>\n",
       "      <td>5.4</td>\n",
       "      <td>2.3</td>\n",
       "      <td>Iris-virginica</td>\n",
       "    </tr>\n",
       "    <tr>\n",
       "      <th>149</th>\n",
       "      <td>5.9</td>\n",
       "      <td>3.0</td>\n",
       "      <td>5.1</td>\n",
       "      <td>1.8</td>\n",
       "      <td>Iris-virginica</td>\n",
       "    </tr>\n",
       "  </tbody>\n",
       "</table>\n",
       "<p>150 rows × 5 columns</p>\n",
       "</div>"
      ],
      "text/plain": [
       "     sepal_length  sepal_width  petal_length  petal_width         species\n",
       "0             5.1          3.5           1.4          0.2     Iris-setosa\n",
       "1             4.9          3.0           1.4          0.2     Iris-setosa\n",
       "2             4.7          3.2           1.3          0.2     Iris-setosa\n",
       "3             4.6          3.1           1.5          0.2     Iris-setosa\n",
       "4             5.0          3.6           1.4          0.2     Iris-setosa\n",
       "..            ...          ...           ...          ...             ...\n",
       "145           6.7          3.0           5.2          2.3  Iris-virginica\n",
       "146           6.3          2.5           5.0          1.9  Iris-virginica\n",
       "147           6.5          3.0           5.2          2.0  Iris-virginica\n",
       "148           6.2          3.4           5.4          2.3  Iris-virginica\n",
       "149           5.9          3.0           5.1          1.8  Iris-virginica\n",
       "\n",
       "[150 rows x 5 columns]"
      ]
     },
     "execution_count": 5,
     "metadata": {},
     "output_type": "execute_result"
    }
   ],
   "source": [
    "all_df[cols]"
   ]
  },
  {
   "cell_type": "markdown",
   "metadata": {},
   "source": [
    "# b. 資料預處理(data preprocessing)"
   ]
  },
  {
   "cell_type": "code",
   "execution_count": 6,
   "metadata": {},
   "outputs": [],
   "source": [
    "all_df['species'] = all_df['species'].map({'Iris-setosa':0, 'Iris-versicolor': 1, 'Iris-virginica': 2}).astype(int)"
   ]
  },
  {
   "cell_type": "code",
   "execution_count": 7,
   "metadata": {},
   "outputs": [],
   "source": [
    "X = all_df.values[:,:4]   #x為特徵值，:4為前四筆\n",
    "Y = all_df.values[:,4]    #y為類別資料，第4筆為類別資料"
   ]
  },
  {
   "cell_type": "code",
   "execution_count": 8,
   "metadata": {},
   "outputs": [],
   "source": [
    "X_train, X_test, Y_train, Y_test = train_test_split(X, Y, test_size=0.3, random_state=10)"
   ]
  },
  {
   "cell_type": "code",
   "execution_count": 9,
   "metadata": {},
   "outputs": [],
   "source": [
    "Y_train_OneHot = np_utils.to_categorical(Y_train)\n",
    "Y_test_OneHot = np_utils.to_categorical(Y_test)"
   ]
  },
  {
   "cell_type": "code",
   "execution_count": 10,
   "metadata": {},
   "outputs": [
    {
     "name": "stdout",
     "output_type": "stream",
     "text": [
      "total: 150 train: 105 test: 45\n"
     ]
    }
   ],
   "source": [
    "print('total:',len(all_df),\n",
    "      'train:',len(X_train),\n",
    "      'test:',len(X_test))"
   ]
  },
  {
   "cell_type": "markdown",
   "metadata": {},
   "source": [
    "# c. 建立模型"
   ]
  },
  {
   "cell_type": "code",
   "execution_count": 11,
   "metadata": {},
   "outputs": [
    {
     "name": "stdout",
     "output_type": "stream",
     "text": [
      "WARNING:tensorflow:From D:\\python\\envs\\tf1\\lib\\site-packages\\keras\\backend\\tensorflow_backend.py:74: The name tf.get_default_graph is deprecated. Please use tf.compat.v1.get_default_graph instead.\n",
      "\n"
     ]
    }
   ],
   "source": [
    "model = Sequential()"
   ]
  },
  {
   "cell_type": "code",
   "execution_count": 12,
   "metadata": {},
   "outputs": [
    {
     "name": "stdout",
     "output_type": "stream",
     "text": [
      "WARNING:tensorflow:From D:\\python\\envs\\tf1\\lib\\site-packages\\keras\\backend\\tensorflow_backend.py:517: The name tf.placeholder is deprecated. Please use tf.compat.v1.placeholder instead.\n",
      "\n",
      "WARNING:tensorflow:From D:\\python\\envs\\tf1\\lib\\site-packages\\keras\\backend\\tensorflow_backend.py:4138: The name tf.random_uniform is deprecated. Please use tf.random.uniform instead.\n",
      "\n"
     ]
    }
   ],
   "source": [
    "model.add(Dense(units=6, input_dim=4,\n",
    "                kernel_initializer='uniform',\n",
    "                activation='relu'))"
   ]
  },
  {
   "cell_type": "code",
   "execution_count": 13,
   "metadata": {},
   "outputs": [],
   "source": [
    "model.add(Dense(units=6, \n",
    "                kernel_initializer='uniform', \n",
    "                activation='relu'))"
   ]
  },
  {
   "cell_type": "code",
   "execution_count": 15,
   "metadata": {},
   "outputs": [],
   "source": [
    "model.add(Dense(units=3, \n",
    "                kernel_initializer='uniform', \n",
    "                activation='softmax'))"
   ]
  },
  {
   "cell_type": "code",
   "execution_count": 16,
   "metadata": {},
   "outputs": [
    {
     "name": "stdout",
     "output_type": "stream",
     "text": [
      "_________________________________________________________________\n",
      "Layer (type)                 Output Shape              Param #   \n",
      "=================================================================\n",
      "dense_1 (Dense)              (None, 6)                 30        \n",
      "_________________________________________________________________\n",
      "dense_2 (Dense)              (None, 6)                 42        \n",
      "_________________________________________________________________\n",
      "dense_3 (Dense)              (None, 6)                 42        \n",
      "_________________________________________________________________\n",
      "dense_4 (Dense)              (None, 3)                 21        \n",
      "=================================================================\n",
      "Total params: 135\n",
      "Trainable params: 135\n",
      "Non-trainable params: 0\n",
      "_________________________________________________________________\n",
      "None\n"
     ]
    }
   ],
   "source": [
    "print(model.summary())"
   ]
  },
  {
   "cell_type": "markdown",
   "metadata": {},
   "source": [
    "# d.訓練模型"
   ]
  },
  {
   "cell_type": "code",
   "execution_count": 17,
   "metadata": {},
   "outputs": [
    {
     "name": "stdout",
     "output_type": "stream",
     "text": [
      "WARNING:tensorflow:From D:\\python\\envs\\tf1\\lib\\site-packages\\keras\\optimizers.py:790: The name tf.train.Optimizer is deprecated. Please use tf.compat.v1.train.Optimizer instead.\n",
      "\n",
      "WARNING:tensorflow:From D:\\python\\envs\\tf1\\lib\\site-packages\\keras\\backend\\tensorflow_backend.py:3295: The name tf.log is deprecated. Please use tf.math.log instead.\n",
      "\n"
     ]
    }
   ],
   "source": [
    "model.compile(loss='categorical_crossentropy', \n",
    "              optimizer='adam', metrics=['accuracy'])"
   ]
  },
  {
   "cell_type": "code",
   "execution_count": 18,
   "metadata": {},
   "outputs": [
    {
     "name": "stdout",
     "output_type": "stream",
     "text": [
      "WARNING:tensorflow:From D:\\python\\envs\\tf1\\lib\\site-packages\\tensorflow_core\\python\\ops\\math_grad.py:1424: where (from tensorflow.python.ops.array_ops) is deprecated and will be removed in a future version.\n",
      "Instructions for updating:\n",
      "Use tf.where in 2.0, which has the same broadcast rule as np.where\n",
      "WARNING:tensorflow:From D:\\python\\envs\\tf1\\lib\\site-packages\\keras\\backend\\tensorflow_backend.py:986: The name tf.assign_add is deprecated. Please use tf.compat.v1.assign_add instead.\n",
      "\n",
      "WARNING:tensorflow:From D:\\python\\envs\\tf1\\lib\\site-packages\\keras\\backend\\tensorflow_backend.py:973: The name tf.assign is deprecated. Please use tf.compat.v1.assign instead.\n",
      "\n",
      "WARNING:tensorflow:From D:\\python\\envs\\tf1\\lib\\site-packages\\keras\\backend\\tensorflow_backend.py:2741: The name tf.Session is deprecated. Please use tf.compat.v1.Session instead.\n",
      "\n",
      "Train on 73 samples, validate on 32 samples\n",
      "Epoch 1/100\n",
      "WARNING:tensorflow:From D:\\python\\envs\\tf1\\lib\\site-packages\\keras\\backend\\tensorflow_backend.py:174: The name tf.get_default_session is deprecated. Please use tf.compat.v1.get_default_session instead.\n",
      "\n",
      "WARNING:tensorflow:From D:\\python\\envs\\tf1\\lib\\site-packages\\keras\\backend\\tensorflow_backend.py:181: The name tf.ConfigProto is deprecated. Please use tf.compat.v1.ConfigProto instead.\n",
      "\n",
      "WARNING:tensorflow:From D:\\python\\envs\\tf1\\lib\\site-packages\\keras\\backend\\tensorflow_backend.py:190: The name tf.global_variables is deprecated. Please use tf.compat.v1.global_variables instead.\n",
      "\n",
      "WARNING:tensorflow:From D:\\python\\envs\\tf1\\lib\\site-packages\\keras\\backend\\tensorflow_backend.py:199: The name tf.is_variable_initialized is deprecated. Please use tf.compat.v1.is_variable_initialized instead.\n",
      "\n",
      "WARNING:tensorflow:From D:\\python\\envs\\tf1\\lib\\site-packages\\keras\\backend\\tensorflow_backend.py:206: The name tf.variables_initializer is deprecated. Please use tf.compat.v1.variables_initializer instead.\n",
      "\n",
      " - 0s - loss: 1.0989 - acc: 0.2603 - val_loss: 1.0987 - val_acc: 0.2813\n",
      "Epoch 2/100\n",
      " - 0s - loss: 1.0987 - acc: 0.2740 - val_loss: 1.0985 - val_acc: 0.3125\n",
      "Epoch 3/100\n",
      " - 0s - loss: 1.0985 - acc: 0.3562 - val_loss: 1.0984 - val_acc: 0.3125\n",
      "Epoch 4/100\n",
      " - 0s - loss: 1.0983 - acc: 0.4384 - val_loss: 1.0980 - val_acc: 0.4375\n",
      "Epoch 5/100\n",
      " - 0s - loss: 1.0969 - acc: 0.3973 - val_loss: 1.0960 - val_acc: 0.4688\n",
      "Epoch 6/100\n",
      " - 0s - loss: 1.0946 - acc: 0.7260 - val_loss: 1.0917 - val_acc: 0.7188\n",
      "Epoch 7/100\n",
      " - 0s - loss: 1.0902 - acc: 0.6712 - val_loss: 1.0837 - val_acc: 0.7188\n",
      "Epoch 8/100\n",
      " - 0s - loss: 1.0816 - acc: 0.6712 - val_loss: 1.0706 - val_acc: 0.7188\n",
      "Epoch 9/100\n",
      " - 0s - loss: 1.0681 - acc: 0.6164 - val_loss: 1.0491 - val_acc: 0.6563\n",
      "Epoch 10/100\n",
      " - 0s - loss: 1.0472 - acc: 0.6164 - val_loss: 1.0204 - val_acc: 0.6875\n",
      "Epoch 11/100\n",
      " - 0s - loss: 1.0200 - acc: 0.6027 - val_loss: 0.9846 - val_acc: 0.7188\n",
      "Epoch 12/100\n",
      " - 0s - loss: 0.9883 - acc: 0.5890 - val_loss: 0.9415 - val_acc: 0.6563\n",
      "Epoch 13/100\n",
      " - 0s - loss: 0.9534 - acc: 0.6438 - val_loss: 0.9046 - val_acc: 0.7188\n",
      "Epoch 14/100\n",
      " - 0s - loss: 0.9221 - acc: 0.6301 - val_loss: 0.8660 - val_acc: 0.6875\n",
      "Epoch 15/100\n",
      " - 0s - loss: 0.8940 - acc: 0.6438 - val_loss: 0.8372 - val_acc: 0.7188\n",
      "Epoch 16/100\n",
      " - 0s - loss: 0.8730 - acc: 0.6438 - val_loss: 0.8147 - val_acc: 0.7188\n",
      "Epoch 17/100\n",
      " - 0s - loss: 0.8554 - acc: 0.6575 - val_loss: 0.7945 - val_acc: 0.7188\n",
      "Epoch 18/100\n",
      " - 0s - loss: 0.8410 - acc: 0.6575 - val_loss: 0.7822 - val_acc: 0.7188\n",
      "Epoch 19/100\n",
      " - 0s - loss: 0.8297 - acc: 0.6575 - val_loss: 0.7735 - val_acc: 0.7188\n",
      "Epoch 20/100\n",
      " - 0s - loss: 0.8189 - acc: 0.6575 - val_loss: 0.7645 - val_acc: 0.7188\n",
      "Epoch 21/100\n",
      " - 0s - loss: 0.8093 - acc: 0.6575 - val_loss: 0.7555 - val_acc: 0.7188\n",
      "Epoch 22/100\n",
      " - 0s - loss: 0.8023 - acc: 0.6575 - val_loss: 0.7505 - val_acc: 0.7188\n",
      "Epoch 23/100\n",
      " - 0s - loss: 0.7937 - acc: 0.6712 - val_loss: 0.7445 - val_acc: 0.7188\n",
      "Epoch 24/100\n",
      " - 0s - loss: 0.7858 - acc: 0.6712 - val_loss: 0.7369 - val_acc: 0.7188\n",
      "Epoch 25/100\n",
      " - 0s - loss: 0.7785 - acc: 0.6712 - val_loss: 0.7319 - val_acc: 0.7188\n",
      "Epoch 26/100\n",
      " - 0s - loss: 0.7724 - acc: 0.6712 - val_loss: 0.7274 - val_acc: 0.7188\n",
      "Epoch 27/100\n",
      " - 0s - loss: 0.7674 - acc: 0.6712 - val_loss: 0.7197 - val_acc: 0.7188\n",
      "Epoch 28/100\n",
      " - 0s - loss: 0.7598 - acc: 0.6712 - val_loss: 0.7152 - val_acc: 0.7188\n",
      "Epoch 29/100\n",
      " - 0s - loss: 0.7536 - acc: 0.6712 - val_loss: 0.7105 - val_acc: 0.7188\n",
      "Epoch 30/100\n",
      " - 0s - loss: 0.7486 - acc: 0.6712 - val_loss: 0.7080 - val_acc: 0.7188\n",
      "Epoch 31/100\n",
      " - 0s - loss: 0.7423 - acc: 0.6712 - val_loss: 0.7003 - val_acc: 0.7188\n",
      "Epoch 32/100\n",
      " - 0s - loss: 0.7374 - acc: 0.6712 - val_loss: 0.6970 - val_acc: 0.7188\n",
      "Epoch 33/100\n",
      " - 0s - loss: 0.7321 - acc: 0.6712 - val_loss: 0.6922 - val_acc: 0.7188\n",
      "Epoch 34/100\n",
      " - 0s - loss: 0.7279 - acc: 0.6712 - val_loss: 0.6897 - val_acc: 0.7188\n",
      "Epoch 35/100\n",
      " - 0s - loss: 0.7226 - acc: 0.6712 - val_loss: 0.6841 - val_acc: 0.7188\n",
      "Epoch 36/100\n",
      " - 0s - loss: 0.7181 - acc: 0.6712 - val_loss: 0.6789 - val_acc: 0.7188\n",
      "Epoch 37/100\n",
      " - 0s - loss: 0.7137 - acc: 0.6712 - val_loss: 0.6770 - val_acc: 0.7188\n",
      "Epoch 38/100\n",
      " - 0s - loss: 0.7082 - acc: 0.6712 - val_loss: 0.6719 - val_acc: 0.7188\n",
      "Epoch 39/100\n",
      " - 0s - loss: 0.7043 - acc: 0.6712 - val_loss: 0.6678 - val_acc: 0.7188\n",
      "Epoch 40/100\n",
      " - 0s - loss: 0.6997 - acc: 0.6712 - val_loss: 0.6663 - val_acc: 0.7188\n",
      "Epoch 41/100\n",
      " - 0s - loss: 0.6953 - acc: 0.6712 - val_loss: 0.6620 - val_acc: 0.7188\n",
      "Epoch 42/100\n",
      " - 0s - loss: 0.6924 - acc: 0.6712 - val_loss: 0.6609 - val_acc: 0.7188\n",
      "Epoch 43/100\n",
      " - 0s - loss: 0.6870 - acc: 0.6712 - val_loss: 0.6556 - val_acc: 0.7188\n",
      "Epoch 44/100\n",
      " - 0s - loss: 0.6833 - acc: 0.6712 - val_loss: 0.6511 - val_acc: 0.7188\n",
      "Epoch 45/100\n",
      " - 0s - loss: 0.6817 - acc: 0.6712 - val_loss: 0.6505 - val_acc: 0.7188\n",
      "Epoch 46/100\n",
      " - 0s - loss: 0.6755 - acc: 0.6712 - val_loss: 0.6436 - val_acc: 0.7188\n",
      "Epoch 47/100\n",
      " - 0s - loss: 0.6716 - acc: 0.6712 - val_loss: 0.6393 - val_acc: 0.7188\n",
      "Epoch 48/100\n",
      " - 0s - loss: 0.6679 - acc: 0.6712 - val_loss: 0.6365 - val_acc: 0.7188\n",
      "Epoch 49/100\n",
      " - 0s - loss: 0.6637 - acc: 0.6712 - val_loss: 0.6343 - val_acc: 0.7188\n",
      "Epoch 50/100\n",
      " - 0s - loss: 0.6602 - acc: 0.6712 - val_loss: 0.6314 - val_acc: 0.7188\n",
      "Epoch 51/100\n",
      " - 0s - loss: 0.6565 - acc: 0.6712 - val_loss: 0.6283 - val_acc: 0.7188\n",
      "Epoch 52/100\n",
      " - 0s - loss: 0.6531 - acc: 0.6712 - val_loss: 0.6261 - val_acc: 0.7188\n",
      "Epoch 53/100\n",
      " - 0s - loss: 0.6493 - acc: 0.6712 - val_loss: 0.6235 - val_acc: 0.7188\n",
      "Epoch 54/100\n",
      " - 0s - loss: 0.6467 - acc: 0.6849 - val_loss: 0.6178 - val_acc: 0.7188\n",
      "Epoch 55/100\n",
      " - 0s - loss: 0.6422 - acc: 0.6849 - val_loss: 0.6151 - val_acc: 0.7188\n",
      "Epoch 56/100\n",
      " - 0s - loss: 0.6437 - acc: 0.6986 - val_loss: 0.6148 - val_acc: 0.7188\n",
      "Epoch 57/100\n",
      " - 0s - loss: 0.6363 - acc: 0.6712 - val_loss: 0.6060 - val_acc: 0.7188\n",
      "Epoch 58/100\n",
      " - 0s - loss: 0.6333 - acc: 0.6849 - val_loss: 0.6058 - val_acc: 0.7188\n",
      "Epoch 59/100\n",
      " - 0s - loss: 0.6301 - acc: 0.6849 - val_loss: 0.6013 - val_acc: 0.7188\n",
      "Epoch 60/100\n",
      " - 0s - loss: 0.6249 - acc: 0.6849 - val_loss: 0.5988 - val_acc: 0.7188\n",
      "Epoch 61/100\n",
      " - 0s - loss: 0.6220 - acc: 0.6849 - val_loss: 0.5941 - val_acc: 0.7188\n",
      "Epoch 62/100\n",
      " - 0s - loss: 0.6191 - acc: 0.6849 - val_loss: 0.5912 - val_acc: 0.7188\n",
      "Epoch 63/100\n",
      " - 0s - loss: 0.6160 - acc: 0.6849 - val_loss: 0.5884 - val_acc: 0.7188\n",
      "Epoch 64/100\n",
      " - 0s - loss: 0.6118 - acc: 0.6849 - val_loss: 0.5842 - val_acc: 0.7188\n",
      "Epoch 65/100\n",
      " - 0s - loss: 0.6099 - acc: 0.6986 - val_loss: 0.5814 - val_acc: 0.7188\n",
      "Epoch 66/100\n",
      " - 0s - loss: 0.6052 - acc: 0.6849 - val_loss: 0.5781 - val_acc: 0.7188\n",
      "Epoch 67/100\n",
      " - 0s - loss: 0.6020 - acc: 0.7260 - val_loss: 0.5750 - val_acc: 0.7188\n",
      "Epoch 68/100\n",
      " - 0s - loss: 0.5992 - acc: 0.7260 - val_loss: 0.5726 - val_acc: 0.7188\n",
      "Epoch 69/100\n",
      " - 0s - loss: 0.5958 - acc: 0.7260 - val_loss: 0.5695 - val_acc: 0.7188\n",
      "Epoch 70/100\n",
      " - 0s - loss: 0.5928 - acc: 0.7260 - val_loss: 0.5674 - val_acc: 0.7188\n",
      "Epoch 71/100\n",
      " - 0s - loss: 0.5895 - acc: 0.7260 - val_loss: 0.5631 - val_acc: 0.7188\n",
      "Epoch 72/100\n",
      " - 0s - loss: 0.5863 - acc: 0.7260 - val_loss: 0.5591 - val_acc: 0.7188\n",
      "Epoch 73/100\n",
      " - 0s - loss: 0.5837 - acc: 0.7260 - val_loss: 0.5545 - val_acc: 0.7188\n",
      "Epoch 74/100\n",
      " - 0s - loss: 0.5799 - acc: 0.7260 - val_loss: 0.5513 - val_acc: 0.7188\n",
      "Epoch 75/100\n",
      " - 0s - loss: 0.5782 - acc: 0.7260 - val_loss: 0.5471 - val_acc: 0.7188\n"
     ]
    },
    {
     "name": "stdout",
     "output_type": "stream",
     "text": [
      "Epoch 76/100\n",
      " - 0s - loss: 0.5741 - acc: 0.7397 - val_loss: 0.5470 - val_acc: 0.7500\n",
      "Epoch 77/100\n",
      " - 0s - loss: 0.5718 - acc: 0.7260 - val_loss: 0.5407 - val_acc: 0.7188\n",
      "Epoch 78/100\n",
      " - 0s - loss: 0.5674 - acc: 0.7397 - val_loss: 0.5405 - val_acc: 0.7500\n",
      "Epoch 79/100\n",
      " - 0s - loss: 0.5657 - acc: 0.7260 - val_loss: 0.5349 - val_acc: 0.7500\n",
      "Epoch 80/100\n",
      " - 0s - loss: 0.5607 - acc: 0.7397 - val_loss: 0.5327 - val_acc: 0.7500\n",
      "Epoch 81/100\n",
      " - 0s - loss: 0.5577 - acc: 0.7397 - val_loss: 0.5295 - val_acc: 0.7500\n",
      "Epoch 82/100\n",
      " - 0s - loss: 0.5551 - acc: 0.7397 - val_loss: 0.5263 - val_acc: 0.7500\n",
      "Epoch 83/100\n",
      " - 0s - loss: 0.5519 - acc: 0.7397 - val_loss: 0.5215 - val_acc: 0.7500\n",
      "Epoch 84/100\n",
      " - 0s - loss: 0.5495 - acc: 0.7260 - val_loss: 0.5171 - val_acc: 0.7500\n",
      "Epoch 85/100\n",
      " - 0s - loss: 0.5467 - acc: 0.7397 - val_loss: 0.5147 - val_acc: 0.7500\n",
      "Epoch 86/100\n",
      " - 0s - loss: 0.5423 - acc: 0.7397 - val_loss: 0.5111 - val_acc: 0.7500\n",
      "Epoch 87/100\n",
      " - 0s - loss: 0.5400 - acc: 0.7397 - val_loss: 0.5069 - val_acc: 0.7500\n",
      "Epoch 88/100\n",
      " - 0s - loss: 0.5362 - acc: 0.7671 - val_loss: 0.5070 - val_acc: 0.8125\n",
      "Epoch 89/100\n",
      " - 0s - loss: 0.5355 - acc: 0.7808 - val_loss: 0.5031 - val_acc: 0.8125\n",
      "Epoch 90/100\n",
      " - 0s - loss: 0.5301 - acc: 0.7534 - val_loss: 0.4975 - val_acc: 0.7500\n",
      "Epoch 91/100\n",
      " - 0s - loss: 0.5294 - acc: 0.7397 - val_loss: 0.4946 - val_acc: 0.7500\n",
      "Epoch 92/100\n",
      " - 0s - loss: 0.5245 - acc: 0.7534 - val_loss: 0.4911 - val_acc: 0.7500\n",
      "Epoch 93/100\n",
      " - 0s - loss: 0.5221 - acc: 0.7671 - val_loss: 0.4887 - val_acc: 0.7813\n",
      "Epoch 94/100\n",
      " - 0s - loss: 0.5207 - acc: 0.7671 - val_loss: 0.4873 - val_acc: 0.8438\n",
      "Epoch 95/100\n",
      " - 0s - loss: 0.5161 - acc: 0.7808 - val_loss: 0.4823 - val_acc: 0.7813\n",
      "Epoch 96/100\n",
      " - 0s - loss: 0.5145 - acc: 0.7397 - val_loss: 0.4775 - val_acc: 0.7500\n",
      "Epoch 97/100\n",
      " - 0s - loss: 0.5111 - acc: 0.7671 - val_loss: 0.4759 - val_acc: 0.8438\n",
      "Epoch 98/100\n",
      " - 0s - loss: 0.5083 - acc: 0.7671 - val_loss: 0.4717 - val_acc: 0.8125\n",
      "Epoch 99/100\n",
      " - 0s - loss: 0.5049 - acc: 0.7808 - val_loss: 0.4695 - val_acc: 0.8125\n",
      "Epoch 100/100\n",
      " - 0s - loss: 0.5019 - acc: 0.7808 - val_loss: 0.4664 - val_acc: 0.8125\n"
     ]
    }
   ],
   "source": [
    "train_history=model.fit(x=X_train,\n",
    "                        y=Y_train_OneHot,validation_split=0.3, \n",
    "                        epochs=100, batch_size=5,verbose=2)"
   ]
  },
  {
   "cell_type": "code",
   "execution_count": null,
   "metadata": {},
   "outputs": [],
   "source": []
  }
 ],
 "metadata": {
  "kernelspec": {
   "display_name": "Python 3",
   "language": "python",
   "name": "python3"
  },
  "language_info": {
   "codemirror_mode": {
    "name": "ipython",
    "version": 3
   },
   "file_extension": ".py",
   "mimetype": "text/x-python",
   "name": "python",
   "nbconvert_exporter": "python",
   "pygments_lexer": "ipython3",
   "version": "3.7.7"
  }
 },
 "nbformat": 4,
 "nbformat_minor": 4
}
